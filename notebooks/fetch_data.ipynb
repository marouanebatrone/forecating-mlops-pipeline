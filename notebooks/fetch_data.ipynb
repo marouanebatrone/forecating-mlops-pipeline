{
 "cells": [
  {
   "cell_type": "code",
   "execution_count": 0,
   "metadata": {
    "application/vnd.databricks.v1+cell": {
     "cellMetadata": {
      "byteLimit": 2048000,
      "rowLimit": 10000
     },
     "inputWidgets": {},
     "nuid": "0f7b91a5-de37-451f-ab41-f9d7a93cc4af",
     "showTitle": false,
     "tableResultSettingsMap": {},
     "title": ""
    }
   },
   "outputs": [
    {
     "name": "stdout",
     "output_type": "stream",
     "text": [
      "Requirement already satisfied: requests in /databricks/python3/lib/python3.11/site-packages (2.31.0)\n",
      "Requirement already satisfied: charset-normalizer<4,>=2 in /databricks/python3/lib/python3.11/site-packages (from requests) (2.0.4)\n",
      "Requirement already satisfied: idna<4,>=2.5 in /databricks/python3/lib/python3.11/site-packages (from requests) (3.4)\n",
      "Requirement already satisfied: urllib3<3,>=1.21.1 in /databricks/python3/lib/python3.11/site-packages (from requests) (1.26.16)\n",
      "Requirement already satisfied: certifi>=2017.4.17 in /databricks/python3/lib/python3.11/site-packages (from requests) (2023.7.22)\n",
      "\u001b[43mNote: you may need to restart the kernel using %restart_python or dbutils.library.restartPython() to use updated packages.\u001b[0m\n",
      "Requirement already satisfied: azure-storage-blob in /databricks/python3/lib/python3.11/site-packages (12.19.1)\n",
      "Requirement already satisfied: azure-core<2.0.0,>=1.28.0 in /databricks/python3/lib/python3.11/site-packages (from azure-storage-blob) (1.30.2)\n",
      "Requirement already satisfied: cryptography>=2.1.4 in /databricks/python3/lib/python3.11/site-packages (from azure-storage-blob) (41.0.3)\n",
      "Requirement already satisfied: typing-extensions>=4.3.0 in /databricks/python3/lib/python3.11/site-packages (from azure-storage-blob) (4.10.0)\n",
      "Requirement already satisfied: isodate>=0.6.1 in /databricks/python3/lib/python3.11/site-packages (from azure-storage-blob) (0.6.1)\n",
      "Requirement already satisfied: requests>=2.21.0 in /databricks/python3/lib/python3.11/site-packages (from azure-core<2.0.0,>=1.28.0->azure-storage-blob) (2.31.0)\n",
      "Requirement already satisfied: six>=1.11.0 in /usr/lib/python3/dist-packages (from azure-core<2.0.0,>=1.28.0->azure-storage-blob) (1.16.0)\n",
      "Requirement already satisfied: cffi>=1.12 in /databricks/python3/lib/python3.11/site-packages (from cryptography>=2.1.4->azure-storage-blob) (1.15.1)\n",
      "Requirement already satisfied: pycparser in /databricks/python3/lib/python3.11/site-packages (from cffi>=1.12->cryptography>=2.1.4->azure-storage-blob) (2.21)\n",
      "Requirement already satisfied: charset-normalizer<4,>=2 in /databricks/python3/lib/python3.11/site-packages (from requests>=2.21.0->azure-core<2.0.0,>=1.28.0->azure-storage-blob) (2.0.4)\n",
      "Requirement already satisfied: idna<4,>=2.5 in /databricks/python3/lib/python3.11/site-packages (from requests>=2.21.0->azure-core<2.0.0,>=1.28.0->azure-storage-blob) (3.4)\n",
      "Requirement already satisfied: urllib3<3,>=1.21.1 in /databricks/python3/lib/python3.11/site-packages (from requests>=2.21.0->azure-core<2.0.0,>=1.28.0->azure-storage-blob) (1.26.16)\n",
      "Requirement already satisfied: certifi>=2017.4.17 in /databricks/python3/lib/python3.11/site-packages (from requests>=2.21.0->azure-core<2.0.0,>=1.28.0->azure-storage-blob) (2023.7.22)\n",
      "\u001b[43mNote: you may need to restart the kernel using %restart_python or dbutils.library.restartPython() to use updated packages.\u001b[0m\n"
     ]
    }
   ],
   "source": [
    "#%python\n",
    "#%pip install requests\n",
    "#%pip install azure-storage-blob"
   ]
  },
  {
   "cell_type": "code",
   "execution_count": 0,
   "metadata": {
    "application/vnd.databricks.v1+cell": {
     "cellMetadata": {
      "byteLimit": 2048000,
      "rowLimit": 10000
     },
     "inputWidgets": {},
     "nuid": "dac99f0c-f7be-43a2-86ef-18352b99c9b1",
     "showTitle": false,
     "tableResultSettingsMap": {},
     "title": ""
    }
   },
   "outputs": [],
   "source": [
    "import requests\n",
    "import pandas as pd\n",
    "from datetime import datetime, timedelta\n",
    "import json\n",
    "from io import StringIO\n",
    "from azure.storage.blob import BlobServiceClient\n",
    "import io\n",
    "\n",
    "def get_yesterday_date():\n",
    "    yesterday = datetime.now() - timedelta(1)\n",
    "    return yesterday.strftime(\"%Y%m%d\")\n",
    "\n",
    "def make_gapi_request():\n",
    "    api_key = \"goldapi-KEY-io\" \n",
    "    symbol = \"XAU\"\n",
    "    curr = \"USD\"\n",
    "    date = get_yesterday_date()\n",
    "\n",
    "    url = f\"https://www.goldapi.io/api/{symbol}/{curr}/{date}\"\n",
    "\n",
    "    headers = {\n",
    "        \"x-access-token\": api_key,\n",
    "        \"Content-Type\": \"application/json\"\n",
    "    }\n",
    "\n",
    "    try:\n",
    "        response = requests.get(url, headers=headers)\n",
    "        response.raise_for_status()\n",
    "        return response.json()\n",
    "    except requests.exceptions.RequestException as e:\n",
    "        print(\"Error:\", str(e))\n",
    "        return None\n",
    "\n",
    "def upload_to_datalake(data, container_name, folder_name, file_name):\n",
    "    connection_string = \"CONNECTION STRING TO ADL\"\n",
    "\n",
    "    blob_service_client = BlobServiceClient.from_connection_string(connection_string)\n",
    "\n",
    "    container_client = blob_service_client.get_container_client(container_name)\n",
    "\n",
    "    csv_output = StringIO()\n",
    "    csv_writer = pd.DataFrame(data)\n",
    "\n",
    "    csv_writer.to_csv(csv_output, index=False)\n",
    "    \n",
    "    blob_client = container_client.get_blob_client(f\"{folder_name}/{file_name}\")\n",
    "    blob_client.upload_blob(csv_output.getvalue(), overwrite=True)\n",
    "\n",
    "    print(f\"Data uploaded to {container_name}/{folder_name}/{file_name}\")\n",
    "\n",
    "def check_if_file_exists(container_name, folder_name, file_name):\n",
    "    connection_string = \"CONNECTION STRING TO ADL\"\n",
    "    \n",
    "    blob_service_client = BlobServiceClient.from_connection_string(connection_string)\n",
    "\n",
    "    container_client = blob_service_client.get_container_client(container_name)\n",
    "    \n",
    "    try:\n",
    "        blob_client = container_client.get_blob_client(f\"{folder_name}/{file_name}\")\n",
    "        blob_client.download_blob()\n",
    "        return True  # File exists\n",
    "    except:\n",
    "        return False  # File does not exist\n",
    "\n",
    "def main():\n",
    "    data = make_gapi_request()\n",
    "\n",
    "    if data and len(data) > 0:  \n",
    "        print(\"API Response:\", data)  \n",
    "\n",
    "        if isinstance(data, dict):\n",
    "            print(\"Data is a single record, wrapping it in a list.\")  \n",
    "            data = [data]\n",
    "\n",
    "        print(\"Data after wrapping:\", data)\n",
    "\n",
    "        current_year_month = datetime.now().strftime(\"%Y%m\")  \n",
    "        \n",
    "        file_name = f\"{current_year_month}.csv\"\n",
    "        \n",
    "        container_name = \"gold-forecasting-container\"  \n",
    "        folder_name = \"raw-data\"  \n",
    "        \n",
    "        file_exists = check_if_file_exists(container_name, folder_name, file_name)\n",
    "\n",
    "        if file_exists:\n",
    "            print(f\"File {file_name} exists, appending new data.\")\n",
    "            blob_client = BlobServiceClient.from_connection_string(\"CONNECTION STRING TO ADL\").get_container_client(container_name).get_blob_client(f\"{folder_name}/{file_name}\")\n",
    "            existing_data = pd.read_csv(io.StringIO(blob_client.download_blob().readall().decode()))\n",
    "            \n",
    "            new_data = pd.DataFrame(data)\n",
    "            updated_data = pd.concat([existing_data, new_data], ignore_index=True)\n",
    "            updated_data.to_csv(file_name, index=False)\n",
    "        else:\n",
    "            print(f\"File {file_name} doesn't exist, creating new file.\")\n",
    "            new_data = pd.DataFrame(data)\n",
    "            new_data.to_csv(file_name, index=False)\n",
    "\n",
    "        upload_to_datalake(updated_data if file_exists else new_data, container_name, folder_name, file_name)\n",
    "    else:\n",
    "        print(\"No data retrieved from the API.\")\n",
    "\n",
    "main()\n"
   ]
  },
  {
   "cell_type": "code",
   "execution_count": 0,
   "metadata": {
    "application/vnd.databricks.v1+cell": {
     "cellMetadata": {},
     "inputWidgets": {},
     "nuid": "83cc3a85-d368-48c7-b71f-b5fdbed18a8a",
     "showTitle": false,
     "tableResultSettingsMap": {},
     "title": ""
    }
   },
   "outputs": [],
   "source": []
  }
 ],
 "metadata": {
  "application/vnd.databricks.v1+notebook": {
   "computePreferences": null,
   "dashboards": [],
   "environmentMetadata": {
    "base_environment": "",
    "environment_version": "1"
   },
   "language": "python",
   "notebookMetadata": {
    "pythonIndentUnit": 4
   },
   "notebookName": "Fetch data",
   "widgets": {}
  },
  "language_info": {
   "name": "python"
  }
 },
 "nbformat": 4,
 "nbformat_minor": 0
}
